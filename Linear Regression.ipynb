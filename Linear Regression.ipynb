{
 "cells": [
  {
   "cell_type": "markdown",
   "metadata": {},
   "source": [
    "# Linear Regression"
   ]
  },
  {
   "cell_type": "code",
   "execution_count": 1,
   "metadata": {},
   "outputs": [],
   "source": [
    "import pandas as pd\n",
    "import numpy as np\n",
    "from matplotlib import pyplot as plt\n",
    "import seaborn as sns\n",
    "import math\n",
    "import random\n",
    "from sklearn.linear_model import LinearRegression\n",
    "from sklearn.metrics import mean_squared_error\n",
    "from sklearn.metrics import r2_score"
   ]
  },
  {
   "cell_type": "markdown",
   "metadata": {},
   "source": [
    "Creating a simple dataset, which can make good but not perfect prediction results using Linear Regression"
   ]
  },
  {
   "cell_type": "code",
   "execution_count": 2,
   "metadata": {},
   "outputs": [
    {
     "data": {
      "text/html": [
       "<div>\n",
       "<style scoped>\n",
       "    .dataframe tbody tr th:only-of-type {\n",
       "        vertical-align: middle;\n",
       "    }\n",
       "\n",
       "    .dataframe tbody tr th {\n",
       "        vertical-align: top;\n",
       "    }\n",
       "\n",
       "    .dataframe thead th {\n",
       "        text-align: right;\n",
       "    }\n",
       "</style>\n",
       "<table border=\"1\" class=\"dataframe\">\n",
       "  <thead>\n",
       "    <tr style=\"text-align: right;\">\n",
       "      <th></th>\n",
       "      <th>X</th>\n",
       "      <th>Y</th>\n",
       "    </tr>\n",
       "  </thead>\n",
       "  <tbody>\n",
       "    <tr>\n",
       "      <th>0</th>\n",
       "      <td>2</td>\n",
       "      <td>5.000000</td>\n",
       "    </tr>\n",
       "    <tr>\n",
       "      <th>1</th>\n",
       "      <td>4</td>\n",
       "      <td>2.500000</td>\n",
       "    </tr>\n",
       "    <tr>\n",
       "      <th>2</th>\n",
       "      <td>6</td>\n",
       "      <td>1.666667</td>\n",
       "    </tr>\n",
       "    <tr>\n",
       "      <th>3</th>\n",
       "      <td>8</td>\n",
       "      <td>1.250000</td>\n",
       "    </tr>\n",
       "    <tr>\n",
       "      <th>4</th>\n",
       "      <td>10</td>\n",
       "      <td>1.000000</td>\n",
       "    </tr>\n",
       "  </tbody>\n",
       "</table>\n",
       "</div>"
      ],
      "text/plain": [
       "    X         Y\n",
       "0   2  5.000000\n",
       "1   4  2.500000\n",
       "2   6  1.666667\n",
       "3   8  1.250000\n",
       "4  10  1.000000"
      ]
     },
     "execution_count": 2,
     "metadata": {},
     "output_type": "execute_result"
    }
   ],
   "source": [
    "X=[]\n",
    "Y=[]\n",
    "for i in range(1,101):\n",
    "    X.append(1*i + i)\n",
    "    Y.append(5/i)\n",
    "    \n",
    "X = pd.Series(X)\n",
    "Y = pd.Series(Y)\n",
    "    \n",
    "df = pd.concat([X, Y], axis=1)\n",
    "df.columns= [\"X\", \"Y\"]\n",
    "df.head()"
   ]
  },
  {
   "cell_type": "code",
   "execution_count": 3,
   "metadata": {},
   "outputs": [
    {
     "data": {
      "text/plain": [
       "Text(0.5, 1.0, 'Relationship between x and y')"
      ]
     },
     "execution_count": 3,
     "metadata": {},
     "output_type": "execute_result"
    },
    {
     "data": {
      "image/png": "[encoded data removed]",
      "text/plain": [
       "<Figure size 360x360 with 1 Axes>"
      ]
     },
     "metadata": {
      "needs_background": "light"
     },
     "output_type": "display_data"
    }
   ],
   "source": [
    "sns.lmplot(x='X', y='Y', data=df)\n",
    "plt.title('Relationship between x and y')"
   ]
  },
  {
   "cell_type": "markdown",
   "metadata": {},
   "source": [
    "### Mathematics Background"
   ]
  },
  {
   "attachments": {},
   "cell_type": "markdown",
   "metadata": {},
   "source": [
    "1) Linear Regression = (used to find the line that can best represent the data distributio)\n",
    "![title](https://miro.medium.com/max/197/1*edsUDa0r5VQitnEjN0s2wg.png)\n",
    "2) Residuals equation = (quantifies the mismatch between the identified line and the data distribution)\n",
    "![title](https://miro.medium.com/max/281/1*6gOedn1sZ4U9as7YGLkObg.png)\n",
    "3) By squaring the residual equation, setting it equal to 0 and then rearrenging we can calculate the ideal value of the line slope which can be used to minimize the residuals\n",
    "![title](https://miro.medium.com/max/327/1*Qz4aV5dZcExGvxKtKuq8AA.png)\n",
    "4) Once calculated the line slope we can then calculate the optimal intercept by using the following formula (rearrengement of formula 1)\n",
    "![title](https://miro.medium.com/max/206/1*DEyCdHsvhhuYb5ppdDtk8Q.png)"
   ]
  },
  {
   "cell_type": "markdown",
   "metadata": {},
   "source": [
    "#### Calculating Equation 3 and 4"
   ]
  },
  {
   "cell_type": "code",
   "execution_count": 4,
   "metadata": {},
   "outputs": [
    {
     "name": "stdout",
     "output_type": "stream",
     "text": [
      "The mean of x is 101.0 and the mean of y is 0.25936887588198104\n"
     ]
    }
   ],
   "source": [
    "mean_x = np.mean(df.X)\n",
    "mean_y = np.mean(df.Y)\n",
    "print('The mean of x is {} and the mean of y is {}'.format(mean_x, mean_y))"
   ]
  },
  {
   "cell_type": "code",
   "execution_count": 5,
   "metadata": {},
   "outputs": [
    {
     "name": "stdout",
     "output_type": "stream",
     "text": [
      "-1619.625646408008\n",
      "333300.0\n"
     ]
    }
   ],
   "source": [
    "numerator1 = df.X - mean_x\n",
    "numerator2 = df.Y - mean_y\n",
    "numerator = np.sum(numerator1 * numerator2)\n",
    "print(numerator)\n",
    "denominator = np.sum(numerator1 **2)\n",
    "print(denominator)"
   ]
  },
  {
   "cell_type": "code",
   "execution_count": 6,
   "metadata": {},
   "outputs": [
    {
     "name": "stdout",
     "output_type": "stream",
     "text": [
      "beta1 is: -0.004859362875511575\n",
      "beta0 is: 0.75016452630865\n"
     ]
    }
   ],
   "source": [
    "beta1 = numerator/denominator\n",
    "print('beta1 is: {}'.format(beta1))\n",
    "beta0 = mean_y - beta1 * mean_x\n",
    "print('beta0 is: {}'.format(beta0))"
   ]
  },
  {
   "cell_type": "markdown",
   "metadata": {},
   "source": [
    "Using the calculated optimal slope and intercept we can then make predictions\n",
    "on the whole dataset"
   ]
  },
  {
   "cell_type": "code",
   "execution_count": 7,
   "metadata": {},
   "outputs": [],
   "source": [
    "predicted_y = beta0 + beta1 * df.X"
   ]
  },
  {
   "cell_type": "code",
   "execution_count": 8,
   "metadata": {},
   "outputs": [
    {
     "data": {
      "text/html": [
       "<div>\n",
       "<style scoped>\n",
       "    .dataframe tbody tr th:only-of-type {\n",
       "        vertical-align: middle;\n",
       "    }\n",
       "\n",
       "    .dataframe tbody tr th {\n",
       "        vertical-align: top;\n",
       "    }\n",
       "\n",
       "    .dataframe thead th {\n",
       "        text-align: right;\n",
       "    }\n",
       "</style>\n",
       "<table border=\"1\" class=\"dataframe\">\n",
       "  <thead>\n",
       "    <tr style=\"text-align: right;\">\n",
       "      <th></th>\n",
       "      <th>X</th>\n",
       "      <th>Y</th>\n",
       "      <th>Prediction</th>\n",
       "    </tr>\n",
       "  </thead>\n",
       "  <tbody>\n",
       "    <tr>\n",
       "      <th>0</th>\n",
       "      <td>2</td>\n",
       "      <td>5.000000</td>\n",
       "      <td>0.740446</td>\n",
       "    </tr>\n",
       "    <tr>\n",
       "      <th>1</th>\n",
       "      <td>4</td>\n",
       "      <td>2.500000</td>\n",
       "      <td>0.730727</td>\n",
       "    </tr>\n",
       "    <tr>\n",
       "      <th>2</th>\n",
       "      <td>6</td>\n",
       "      <td>1.666667</td>\n",
       "      <td>0.721008</td>\n",
       "    </tr>\n",
       "    <tr>\n",
       "      <th>3</th>\n",
       "      <td>8</td>\n",
       "      <td>1.250000</td>\n",
       "      <td>0.711290</td>\n",
       "    </tr>\n",
       "    <tr>\n",
       "      <th>4</th>\n",
       "      <td>10</td>\n",
       "      <td>1.000000</td>\n",
       "      <td>0.701571</td>\n",
       "    </tr>\n",
       "  </tbody>\n",
       "</table>\n",
       "</div>"
      ],
      "text/plain": [
       "    X         Y  Prediction\n",
       "0   2  5.000000    0.740446\n",
       "1   4  2.500000    0.730727\n",
       "2   6  1.666667    0.721008\n",
       "3   8  1.250000    0.711290\n",
       "4  10  1.000000    0.701571"
      ]
     },
     "execution_count": 8,
     "metadata": {},
     "output_type": "execute_result"
    }
   ],
   "source": [
    "df[\"Prediction\"] = predicted_y\n",
    "df.head()"
   ]
  },
  {
   "cell_type": "markdown",
   "metadata": {},
   "source": [
    "Comparing the Linear Regression predictions vs the actual Y values"
   ]
  },
  {
   "cell_type": "code",
   "execution_count": 9,
   "metadata": {},
   "outputs": [
    {
     "data": {
      "text/plain": [
       "<matplotlib.legend.Legend at 0x294a3678358>"
      ]
     },
     "execution_count": 9,
     "metadata": {},
     "output_type": "execute_result"
    },
    {
     "data": {
      "image/png": "[encoded data removed]",
      "text/plain": [
       "<Figure size 576x432 with 1 Axes>"
      ]
     },
     "metadata": {
      "needs_background": "light"
     },
     "output_type": "display_data"
    }
   ],
   "source": [
    "plt.figure(figsize=(8,6))\n",
    "original_y = plt.scatter(df.X, df.Y)\n",
    "predicted_y = plt.scatter(df.X, df.Prediction)\n",
    "plt.title('Y vs. Predicted Y')\n",
    "plt.legend((original_y, predicted_y), ('Y', 'Predicted Y'))"
   ]
  },
  {
   "cell_type": "markdown",
   "metadata": {},
   "source": [
    "Calculating our model accuracy"
   ]
  },
  {
   "cell_type": "code",
   "execution_count": 10,
   "metadata": {},
   "outputs": [
    {
     "name": "stdout",
     "output_type": "stream",
     "text": [
      "Our RMSE is 0.5126112307452166\n"
     ]
    }
   ],
   "source": [
    "rmse = math.sqrt(np.mean((df.Prediction-df.Y)**2))\n",
    "print('Our RMSE is {}'.format(rmse))"
   ]
  },
  {
   "cell_type": "markdown",
   "metadata": {},
   "source": [
    "## Linear Regression using functions"
   ]
  },
  {
   "cell_type": "code",
   "execution_count": 11,
   "metadata": {},
   "outputs": [],
   "source": [
    "def calc_slope(feature, target, x_bar, y_bar):\n",
    "    numerator = 0\n",
    "    denominator = 0\n",
    "    for i, j in zip(feature, target):\n",
    "        numerator+= (i - x_bar) * (j - y_bar)\n",
    "        denominator+= (i - x_bar)**2\n",
    "    return round((numerator / denominator),8)"
   ]
  },
  {
   "cell_type": "code",
   "execution_count": 12,
   "metadata": {},
   "outputs": [
    {
     "name": "stdout",
     "output_type": "stream",
     "text": [
      "Slope:  -0.00485936\n",
      "Intercept:  0.7501642358819811\n"
     ]
    }
   ],
   "source": [
    "b1 = calc_slope(df.X, df.Y, mean_x, mean_y)\n",
    "print(\"Slope: \",b1)\n",
    "b0 = mean_y - (b1 * mean_x)\n",
    "print(\"Intercept: \",b0)"
   ]
  },
  {
   "cell_type": "code",
   "execution_count": 13,
   "metadata": {},
   "outputs": [],
   "source": [
    "y_hat = df.X * b1 + b0"
   ]
  },
  {
   "cell_type": "code",
   "execution_count": 14,
   "metadata": {},
   "outputs": [],
   "source": [
    "def calc_MSE(y_hat, y):\n",
    "    numerator = 0\n",
    "    denominator = len(y)\n",
    "    for i, j in zip(y_hat, y):\n",
    "        numerator+= (i - j)**2\n",
    "    return (numerator / denominator)"
   ]
  },
  {
   "cell_type": "code",
   "execution_count": 15,
   "metadata": {},
   "outputs": [
    {
     "name": "stdout",
     "output_type": "stream",
     "text": [
      "Mean Squared Error:  0.2627702738861532\n",
      "Root mean squared error:  0.5126112307452434\n"
     ]
    }
   ],
   "source": [
    "MSE = calc_MSE(y_hat, df.Y)\n",
    "print(\"Mean Squared Error: \",MSE)\n",
    "RMSE = MSE**0.5\n",
    "print(\"Root mean squared error: \",RMSE)"
   ]
  },
  {
   "cell_type": "markdown",
   "metadata": {},
   "source": [
    "## Using Sklearn library"
   ]
  },
  {
   "cell_type": "code",
   "execution_count": 16,
   "metadata": {},
   "outputs": [
    {
     "data": {
      "text/plain": [
       "LinearRegression(copy_X=True, fit_intercept=True, n_jobs=None,\n",
       "         normalize=False)"
      ]
     },
     "execution_count": 16,
     "metadata": {},
     "output_type": "execute_result"
    }
   ],
   "source": [
    "model = LinearRegression()\n",
    "model.fit(np.array(df.X).reshape(-1, 1),df.Y)"
   ]
  },
  {
   "cell_type": "code",
   "execution_count": 17,
   "metadata": {},
   "outputs": [
    {
     "data": {
      "text/plain": [
       "array([-0.00485936])"
      ]
     },
     "execution_count": 17,
     "metadata": {},
     "output_type": "execute_result"
    }
   ],
   "source": [
    "slope = model.coef_\n",
    "slope"
   ]
  },
  {
   "cell_type": "code",
   "execution_count": 18,
   "metadata": {},
   "outputs": [
    {
     "data": {
      "text/plain": [
       "0.7501645263086503"
      ]
     },
     "execution_count": 18,
     "metadata": {},
     "output_type": "execute_result"
    }
   ],
   "source": [
    "intercept = model.intercept_\n",
    "intercept"
   ]
  },
  {
   "cell_type": "code",
   "execution_count": 19,
   "metadata": {},
   "outputs": [
    {
     "data": {
      "text/plain": [
       "0.26277027388612567"
      ]
     },
     "execution_count": 19,
     "metadata": {},
     "output_type": "execute_result"
    }
   ],
   "source": [
    "predict = model.predict(np.array(df.X).reshape(-1, 1))\n",
    "model_MSE = mean_squared_error(predict, df.Y)\n",
    "model_MSE"
   ]
  },
  {
   "cell_type": "code",
   "execution_count": 20,
   "metadata": {},
   "outputs": [
    {
     "data": {
      "text/plain": [
       "0.5126112307452165"
      ]
     },
     "execution_count": 20,
     "metadata": {},
     "output_type": "execute_result"
    }
   ],
   "source": [
    "model_RMSE = model_MSE**0.5\n",
    "model_RMSE"
   ]
  },
  {
   "cell_type": "markdown",
   "metadata": {},
   "source": [
    "#### Calculating the percentage of the range of the dependent variable. The lower the percent, the better the model."
   ]
  },
  {
   "cell_type": "code",
   "execution_count": 21,
   "metadata": {},
   "outputs": [
    {
     "data": {
      "text/plain": [
       "198"
      ]
     },
     "execution_count": 21,
     "metadata": {},
     "output_type": "execute_result"
    }
   ],
   "source": [
    "y_range = df.X.max() - df.X.min() \n",
    "y_range"
   ]
  },
  {
   "cell_type": "code",
   "execution_count": 22,
   "metadata": {},
   "outputs": [
    {
     "name": "stdout",
     "output_type": "stream",
     "text": [
      "Error margin:  0.2588945609824462 %\n"
     ]
    }
   ],
   "source": [
    "error_margin = (RMSE / y_range) * 100\n",
    "print(\"Error margin: \",error_margin,\"%\")"
   ]
  },
  {
   "cell_type": "markdown",
   "metadata": {},
   "source": [
    "#### The R2 score can then be calculated to find out how confident is our model on every prediction"
   ]
  },
  {
   "cell_type": "code",
   "execution_count": 23,
   "metadata": {},
   "outputs": [
    {
     "data": {
      "text/plain": [
       "0.23048180068394408"
      ]
     },
     "execution_count": 23,
     "metadata": {},
     "output_type": "execute_result"
    }
   ],
   "source": [
    "r2_score(Y, predict)"
   ]
  },
  {
   "cell_type": "markdown",
   "metadata": {},
   "source": [
    "## Comparison of the results obtained using the different models"
   ]
  },
  {
   "cell_type": "code",
   "execution_count": 24,
   "metadata": {},
   "outputs": [
    {
     "name": "stdout",
     "output_type": "stream",
     "text": [
      "beta1 is: -0.004859362875511575\n",
      "beta0 is: 0.75016452630865\n",
      "The Mathematical Slope is: -0.00485936\n",
      "The Scikit Learn Slope is: [-0.00485936]\n",
      "The Mathematical Intercept is: 0.7501642358819811\n",
      "The Scikit Learn Intercept is: 0.7501645263086503\n"
     ]
    }
   ],
   "source": [
    "print('beta1 is: {}'.format(beta1))\n",
    "print('beta0 is: {}'.format(beta0))\n",
    "print('The Mathematical Slope is:', b1)\n",
    "print('The Scikit Learn Slope is:', slope)\n",
    "print('The Mathematical Intercept is:', b0)\n",
    "print('The Scikit Learn Intercept is:', intercept)"
   ]
  },
  {
   "cell_type": "code",
   "execution_count": 25,
   "metadata": {},
   "outputs": [
    {
     "name": "stdout",
     "output_type": "stream",
     "text": [
      "The Mathematical MSE is: 0.2627702738861532\n",
      "The Scikit Learn MSE is: 0.26277027388612567\n",
      "The Mathematical RMSE is: 0.5126112307452434\n",
      "The Scikit Learn RMSE is: 0.5126112307452165\n"
     ]
    }
   ],
   "source": [
    "print('The Mathematical MSE is:', MSE)\n",
    "print('The Scikit Learn MSE is:', model_MSE)\n",
    "print('The Mathematical RMSE is:', RMSE)\n",
    "print('The Scikit Learn RMSE is:', model_RMSE)"
   ]
  },
  {
   "cell_type": "code",
   "execution_count": 26,
   "metadata": {},
   "outputs": [
    {
     "data": {
      "image/png": "[encoded data removed]",
      "text/plain": [
       "<Figure size 720x360 with 2 Axes>"
      ]
     },
     "metadata": {
      "needs_background": "light"
     },
     "output_type": "display_data"
    }
   ],
   "source": [
    "fig = plt.figure(figsize=(10, 5))\n",
    "plt.suptitle('Regression Plots to compare the last two models', \n",
    "             y=1.05, fontsize=18)\n",
    "\n",
    "ax = fig.add_subplot(121)\n",
    "ax1 = fig.add_subplot(122)\n",
    "\n",
    "# Subplot 1 scatter plot of ENGINE_SIZE and Co2_EMISSIONS\n",
    "ax.scatter(x=df.X, y=df.Y, color='g', data=df)\n",
    "ax.plot(df.X, b1*df.X + b0, '-r', linewidth=3, color='red')\n",
    "ax.annotate(\"y_hat = {} + {}x\".format(round(b0), round(b1)), \n",
    "            xy=(2, 1), xytext=(18, 1), fontsize=12)\n",
    "ax.set_title('Regression model from scratch', fontsize=14)\n",
    "ax.set_xlabel('X', fontsize=12)\n",
    "ax.set_ylabel('Y', fontsize=12)\n",
    "\n",
    "# Subplot 2 scatter plot of FUEL_CONS_CITY(L/100km) and Co2_EMISSIONS\n",
    "ax1.scatter(x=df.X, y=df.Y, color='b', data=df)\n",
    "ax1.plot(df.X, slope[0]*df.X + intercept, '-r', linewidth=3, color='red')\n",
    "ax1.annotate(\"y_hat = {} + {}x\".format(np.round(intercept), np.round(slope)), \n",
    "             xy=(2, 1), xytext=(18, 1), fontsize=12)\n",
    "ax1.set_title('Regression model using Sklearn', fontsize=14)\n",
    "ax1.set_xlabel('X', fontsize=12)\n",
    "ax1.set_ylabel('Y', fontsize=12)\n",
    "\n",
    "plt.show()"
   ]
  }
 ],
 "metadata": {
  "kernelspec": {
   "display_name": "Python 3",
   "language": "python",
   "name": "python3"
  },
  "language_info": {
   "codemirror_mode": {
    "name": "ipython",
    "version": 3
   },
   "file_extension": ".py",
   "mimetype": "text/x-python",
   "name": "python",
   "nbconvert_exporter": "python",
   "pygments_lexer": "ipython3",
   "version": "3.7.3"
  }
 },
 "nbformat": 4,
 "nbformat_minor": 2
}
