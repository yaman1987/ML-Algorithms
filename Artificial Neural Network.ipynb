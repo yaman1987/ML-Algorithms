{
 "cells": [
  {
   "cell_type": "markdown",
   "metadata": {},
   "source": [
    "# Artificial Neural Network (ANN)"
   ]
  },
  {
   "cell_type": "markdown",
   "metadata": {},
   "source": [
    "This notebook has been realised following guides: <br>\n",
    "1) Sanjay.M (https://towardsdatascience.com/neural-net-from-scratch-using-numpy-71a31f6e3675) <br>\n",
    "2) Omar U. Florez guides (https://medium.com/towards-artificial-intelligence/one-lego-at-a-time-explaining-the-math-of-how-neural-networks-learn-with-implementation-from-scratch-39144a1cf80) <br>"
   ]
  },
  {
   "cell_type": "code",
   "execution_count": 1,
   "metadata": {},
   "outputs": [],
   "source": [
    "import numpy as np\n",
    "import pandas as pd\n",
    "import matplotlib.pyplot as plt\n",
    "import os\n",
    "from sklearn.datasets import make_moons\n",
    "from sklearn.model_selection import train_test_split\n",
    "import seaborn as sns\n",
    "import matplotlib.pyplot as plt\n",
    "from matplotlib import cm\n",
    "from mpl_toolkits.mplot3d import Axes3D\n",
    "sns.set_style(\"whitegrid\")\n",
    "from sklearn.metrics import accuracy_score\n",
    "from IPython.display import Image\n",
    "import sklearn\n",
    "import sklearn.datasets\n",
    "import sklearn.linear_model\n",
    "import matplotlib.pyplot as plt\n",
    "import matplotlib.gridspec as gridspec\n",
    "import imageio\n",
    "import shutil"
   ]
  },
  {
   "cell_type": "markdown",
   "metadata": {},
   "source": [
    "## Initiation of neural network layers"
   ]
  },
  {
   "cell_type": "code",
   "execution_count": 2,
   "metadata": {},
   "outputs": [],
   "source": [
    "# Arguments:\n",
    "# X -- input dataset of shape (input size, number of examples)\n",
    "# Y -- labels of shape (output size, number of examples)\n",
    "\n",
    "# Returns:\n",
    "# n_x -- the size of the input layer\n",
    "# n_h -- the size of the hidden layer\n",
    "# n_y -- the size of the output layer\n",
    "\n",
    "def layer_sizes(X, Y):\n",
    "    n_x = X.shape[0] # size of input layer`\n",
    "    n_y =Y.shape[0] # size of output layer\n",
    "    return (n_x, n_y)"
   ]
  },
  {
   "cell_type": "code",
   "execution_count": 3,
   "metadata": {},
   "outputs": [],
   "source": [
    "# Argument:\n",
    "# n_x -- size of the input layer\n",
    "# n_h -- size of the hidden layer\n",
    "# n_y -- size of the output layer\n",
    "\n",
    "# Returns:\n",
    "# params -- python dictionary containing your parameters:\n",
    "#                 W1 -- weight matrix of shape (n_h, n_x)\n",
    "#                 b1 -- bias vector of shape (n_h, 1)\n",
    "#                 W2 -- weight matrix of shape (n_y, n_h)\n",
    "#                 b2 -- bias vector of shape (n_y, 1)\n",
    "\n",
    "def initialize_parameters(n_x, n_h, n_y):\n",
    "\n",
    "    W1 = np.random.randn(n_h,n_x) * 0.01\n",
    "    b1 = np.zeros(shape=(n_h, 1))\n",
    "    W2 = np.random.randn(n_y,n_h) * 0.01\n",
    "    b2 = np.zeros(shape=(n_y, 1))\n",
    "    \n",
    "    \n",
    "    parameters = {\"W1\": W1,\n",
    "                  \"b1\": b1,\n",
    "                  \"W2\": W2,\n",
    "                  \"b2\": b2}\n",
    "    \n",
    "    return parameters"
   ]
  },
  {
   "cell_type": "markdown",
   "metadata": {},
   "source": [
    "## Activation Function"
   ]
  },
  {
   "cell_type": "code",
   "execution_count": 8,
   "metadata": {},
   "outputs": [],
   "source": [
    "# Compute the sigmoid of x\n",
    "\n",
    "# Arguments:\n",
    "# x -- A scalar or numpy array of any size.\n",
    "\n",
    "# Return:\n",
    "# s -- sigmoid(x) \n",
    "\n",
    "def sigmoid(x):\n",
    "    s = 1/(1+np.exp(-x))\n",
    "    return s"
   ]
  },
  {
   "cell_type": "markdown",
   "metadata": {},
   "source": [
    "## Forward Propagation"
   ]
  },
  {
   "cell_type": "code",
   "execution_count": 4,
   "metadata": {},
   "outputs": [],
   "source": [
    "# Argument:\n",
    "# X -- input data of size (n_x, m)\n",
    "# parameters -- python dictionary containing your parameters (output of initialization function)\n",
    "\n",
    "# Returns:\n",
    "# A2 -- The sigmoid output of the second activation\n",
    "# cache -- a dictionary containing \"Z1\", \"A1\", \"Z2\" and \"A2\"\n",
    "\n",
    "def forward_propagation(X, parameters):\n",
    "\n",
    "    # Retrieve each parameter from the dictionary \"parameters\"\n",
    "    W1 = parameters['W1']\n",
    "    b1 = parameters['b1']\n",
    "    W2 = parameters['W2']\n",
    "    b2 = parameters['b2']\n",
    "    \n",
    "    # Implement Forward Propagation to calculate A2 (probabilities)\n",
    "    Z1 = np.dot(W1,X) + b1\n",
    "    A1 = np.tanh(Z1)\n",
    "    Z2A = np.dot(W2,A1)\n",
    "    Z2 = np.dot(W2,A1) + b2\n",
    "    A2 = sigmoid(Z2)\n",
    "    \n",
    "    cache = {\"Z1\": Z1,\n",
    "             \"A1\": A1,\n",
    "             \"Z2\": Z2,\n",
    "             \"A2\": A2}\n",
    "    \n",
    "    return A2, cache"
   ]
  },
  {
   "cell_type": "markdown",
   "metadata": {},
   "source": [
    "## Cost Function (Binary CrossEntropy)"
   ]
  },
  {
   "cell_type": "code",
   "execution_count": 5,
   "metadata": {},
   "outputs": [],
   "source": [
    "# Arguments:\n",
    "# A2 -- The sigmoid output of the second activation, of shape (1, number of examples)\n",
    "# Y -- \"true\" labels vector of shape (1, number of examples)\n",
    "# parameters -- python dictionary containing your parameters W1, b1, W2 and b2\n",
    "\n",
    "# Returns:\n",
    "# cost -- cross-entropy loss function\n",
    "\n",
    "def compute_cost(A2, Y, parameters):\n",
    "    m = Y.shape[1] # number of example\n",
    "\n",
    "    # Compute the cross-entropy cost\n",
    "    logprobs = np.multiply(np.log(A2), Y) + np.multiply((1 - Y), np.log(1 - A2))\n",
    "    cost = - np.sum(logprobs) / m    \n",
    "    \n",
    "    cost = np.squeeze(cost)     # makes sure cost is the dimension we expect. \n",
    "                                # E.g., turns [[17]] into 17 \n",
    "    \n",
    "    return cost"
   ]
  },
  {
   "cell_type": "markdown",
   "metadata": {},
   "source": [
    "## Backward Propagation"
   ]
  },
  {
   "cell_type": "code",
   "execution_count": 6,
   "metadata": {},
   "outputs": [],
   "source": [
    "# Implement the backward propagation using the instructions above.\n",
    "\n",
    "# Arguments:\n",
    "# parameters -- python dictionary containing our parameters \n",
    "# cache -- a dictionary containing \"Z1\", \"A1\", \"Z2\" and \"A2\".\n",
    "# X -- input data of shape (2, number of examples)\n",
    "# Y -- \"true\" labels vector of shape (1, number of examples)\n",
    "\n",
    "# Returns:\n",
    "# grads -- python dictionary containing your gradients with respect to different parameters\n",
    "\n",
    "def backward_propagation(parameters, cache, X, Y):\n",
    "\n",
    "    m = X.shape[1]\n",
    "    \n",
    "    # First, retrieve W1 and W2 from the dictionary \"parameters\".\n",
    "    W1 = parameters['W1']\n",
    "    W2 = parameters['W2']\n",
    "        \n",
    "    # Retrieve also A1 and A2 from dictionary \"cache\".\n",
    "    A1 = cache['A1']\n",
    "    A2 = cache['A2']\n",
    "    \n",
    "    # Backward propagation: calculate dW1, db1, dW2, db2. \n",
    "\n",
    "    dZ2 = A2 - Y\n",
    "    dW2 = (1 / m) * np.dot(dZ2, A1.T)\n",
    "    db2 = (1 / m) * np.sum(dZ2, axis=1, keepdims=True)\n",
    "    dZ1 = np.multiply(np.dot(W2.T, dZ2), 1 - np.power(A1, 2))\n",
    "    dW1 = (1 / m) * np.dot(dZ1, X.T)\n",
    "    db1 = (1 / m) * np.sum(dZ1, axis=1, keepdims=True)\n",
    "    \n",
    "    grads = {\"dW1\": dW1,\n",
    "             \"db1\": db1,\n",
    "             \"dW2\": dW2,\n",
    "             \"db2\": db2}\n",
    "    \n",
    "    return grads"
   ]
  },
  {
   "cell_type": "markdown",
   "metadata": {},
   "source": [
    "## Updating Parameters"
   ]
  },
  {
   "cell_type": "code",
   "execution_count": 7,
   "metadata": {},
   "outputs": [],
   "source": [
    "# Updates parameters using the gradient descent update rule given above\n",
    "\n",
    "# Arguments:\n",
    "# parameters -- python dictionary containing your parameters \n",
    "# grads -- python dictionary containing your gradients \n",
    "\n",
    "# Returns:\n",
    "# parameters -- python dictionary containing your updated parameters \n",
    "\n",
    "\n",
    "def update_parameters(parameters, grads, learning_rate = 1.2):\n",
    "\n",
    "    # Retrieve each parameter from the dictionary \"parameters\"\n",
    "\n",
    "    W1 = parameters['W1']\n",
    "    b1 = parameters['b1']\n",
    "    W2 = parameters['W2']\n",
    "    b2 = parameters['b2']\n",
    "\n",
    "    \n",
    "    # Retrieve each gradient from the dictionary \"grads\"\n",
    "    dW1 = grads['dW1']\n",
    "    db1 = grads['db1']\n",
    "    dW2 = grads['dW2']\n",
    "    db2 = grads['db2']\n",
    "\n",
    "    \n",
    "    # Update rule for each parameter\n",
    "\n",
    "    W1 = W1 - learning_rate * dW1\n",
    "    b1 = b1 - learning_rate * db1\n",
    "    W2 = W2 - learning_rate * dW2\n",
    "    b2 = b2 - learning_rate * db2\n",
    "    \n",
    "    parameters = {\"W1\": W1,\n",
    "                  \"b1\": b1,\n",
    "                  \"W2\": W2,\n",
    "                  \"b2\": b2}\n",
    "    \n",
    "    return parameters"
   ]
  },
  {
   "cell_type": "markdown",
   "metadata": {},
   "source": [
    "## Model Class Predictions"
   ]
  },
  {
   "cell_type": "code",
   "execution_count": 9,
   "metadata": {},
   "outputs": [],
   "source": [
    "# Using the learned parameters, predicts a class for each example in X\n",
    "\n",
    "# Arguments:\n",
    "# parameters -- python dictionary containing your parameters \n",
    "# X -- input data of size (n_x, m)\n",
    "\n",
    "# Returns\n",
    "# predictions -- vector of predictions of our model (red: 0 / blue: 1)\n",
    "\n",
    "def predict(parameters, X):\n",
    "    \n",
    "    # Computes probabilities using forward propagation, and classifies to 0/1 using 0.5 as the threshold.\n",
    "    A2, cache = forward_propagation(X,parameters)\n",
    "    predictions = A2 > 0.5\n",
    "    \n",
    "    return predictions"
   ]
  },
  {
   "cell_type": "markdown",
   "metadata": {},
   "source": [
    "## Plotting Functions"
   ]
  },
  {
   "cell_type": "code",
   "execution_count": 10,
   "metadata": {},
   "outputs": [],
   "source": [
    "def plot_decision_boundary(X, y_actual, model, save_filepath=None, text=None):\n",
    "\n",
    "    # Set min and max values and give it some padding\n",
    "    x_min, x_max = X[0, :].min() - 1, X[0, :].max() + 1\n",
    "    y_min, y_max = X[1, :].min() - 1, X[1, :].max() + 1\n",
    "    h = 0.01\n",
    "    # Generate a grid of points with distance h between them\n",
    "    xx, yy = np.meshgrid(np.arange(x_min, x_max, h), np.arange(y_min, \n",
    "                                                            y_max, h))\n",
    "    # Predict the function value for the whole grid\n",
    "    Z = model(np.c_[xx.ravel(), yy.ravel()])\n",
    "    Z = Z.reshape(xx.shape)\n",
    "    # Plot the contour and training examples\n",
    "    plt.contourf(xx, yy, Z, cmap=plt.cm.Spectral)\n",
    "    plt.ylabel('x2')\n",
    "    plt.xlabel('x1')\n",
    "    plt.scatter(X[0, :], X[1, :], c=y_actual, cmap=plt.cm.Spectral)\n",
    "    \n",
    "    if text:\n",
    "        plt.text(-3, 10.2, text, fontsize=14)\n",
    "    if save_filepath == None:\n",
    "        plt.show()\n",
    "    else:\n",
    "        plt.savefig(save_filepath)\n",
    "    plt.close()\n",
    "    \n",
    "def plot_function(losses, save_filepath=None, ylabel=None, title=None):\n",
    "    plt.figure()\n",
    "    t = [x[0] for x in losses]\n",
    "    loss = [x[1] for x in losses]\n",
    "\n",
    "    plt.figure()\n",
    "    plt.plot(t, loss, 'b')\n",
    "    plt.xlabel('Batch #')\n",
    "    plt.ylabel(ylabel if ylabel else '')\n",
    "    if title:\n",
    "        plt.title(title)\n",
    "\n",
    "    if save_filepath == None:\n",
    "        plt.show()\n",
    "    else:\n",
    "        plt.savefig(save_filepath)\n",
    "    plt.close()\n",
    "    \n",
    "def make_gif(input_folder, save_filepath):\n",
    "    episode_frames = []\n",
    "    time_per_step = 0.25\n",
    "    for root, _, files in os.walk(input_folder):\n",
    "        file_paths = [os.path.join(root, file) for file in files]\n",
    "        #sorted by modified time\n",
    "        file_paths = sorted(file_paths, key=lambda x: os.path.getmtime(x))\n",
    "        episode_frames = [imageio.imread(file_path) for file_path in file_paths if file_path.endswith('.png')]\n",
    "    episode_frames = np.array(episode_frames)\n",
    "    imageio.mimsave(save_filepath, episode_frames, duration=time_per_step)\n",
    "\n",
    "def make_all_gif(input_folder, save_filepath):\n",
    "    time_per_step = 0.25\n",
    "    for root, _, files in os.walk(os.path.join(input_folder, 'accuracy')):\n",
    "        file_paths = [os.path.join(root, file) for file in files]\n",
    "        #sorted by modified time\n",
    "        file_paths = sorted(file_paths, key=lambda x: os.path.getmtime(x))\n",
    "    file_names = [os.path.basename(file) for file in file_paths]\n",
    "\n",
    "    episode_frames_accuracy = [imageio.imread(os.path.join(input_folder, 'accuracy',file_name)) for file_name in\n",
    "                               file_names if file_name.endswith('.png')]\n",
    "    episode_frames_boundary = [imageio.imread(os.path.join(input_folder, 'boundary', file_name)) for file_name in\n",
    "                               file_names if file_name.endswith('.png')]\n",
    "    episode_frames_loss = [imageio.imread(os.path.join(input_folder, 'loss', file_name)) for file_name in\n",
    "                           file_names if file_name.endswith('.png')]\n",
    "\n",
    "    assert(len(episode_frames_accuracy)==len(episode_frames_boundary)==len(episode_frames_loss))\n",
    "\n",
    "    episode_frames = []\n",
    "    for i in range(len(episode_frames_accuracy)):\n",
    "        plt.figure()\n",
    "        fig, axes = plt.subplots(1, 3, figsize=(20,5))\n",
    "        #fig.subplots_adjust(hspace=1, wspace=1)\n",
    "\n",
    "        ax = axes.flat[0]\n",
    "        ax.imshow(episode_frames_accuracy[i], interpolation='none')\n",
    "        ax.set_axis_off()\n",
    "        ax.set_aspect('equal')\n",
    "\n",
    "        ax = axes.flat[1]\n",
    "        ax.imshow(episode_frames_boundary[i], interpolation='none')\n",
    "        ax.set_axis_off()\n",
    "        ax.set_aspect('equal')\n",
    "\n",
    "        ax = axes.flat[2]\n",
    "        ax.imshow(episode_frames_loss[i], interpolation='none')\n",
    "        ax.set_axis_off()\n",
    "        ax.set_aspect('equal')\n",
    "\n",
    "        fig.tight_layout()\n",
    "        plt.suptitle('Step = %d' %i, fontsize=18)\n",
    "        plt.axis('off')\n",
    "        plt.savefig(os.path.join(input_folder, 'all', 'image_%d.png'%i), dpi = 200)\n",
    "        plt.close()\n",
    "\n",
    "        image = imageio.imread(os.path.join(input_folder, 'all', 'image_%d.png'%i))\n",
    "        episode_frames.append(image)\n",
    "\n",
    "    episode_frames = np.array(episode_frames)\n",
    "    imageio.mimsave(save_filepath, episode_frames, duration=time_per_step)"
   ]
  },
  {
   "cell_type": "markdown",
   "metadata": {},
   "source": [
    "## Complete ANN training model"
   ]
  },
  {
   "cell_type": "code",
   "execution_count": 11,
   "metadata": {},
   "outputs": [],
   "source": [
    "# Arguments:\n",
    "# X -- dataset of shape (2, number of examples)\n",
    "# Y -- labels of shape (1, number of examples)\n",
    "# n_h -- size of the hidden layer\n",
    "# num_iterations -- Number of iterations in gradient descent loop\n",
    "# print_cost -- if True, print the cost every 1000 iterations\n",
    "\n",
    "# Returns:\n",
    "# parameters -- parameters learnt by the model. They can then be used to predict.\n",
    "\n",
    "def nn_model(X, Y, n_h, num_iterations = 10000, print_cost=False):\n",
    "    y_list = [val for sublist in y for val in sublist]\n",
    "    \n",
    "    n_x = layer_sizes(X, Y)[0]\n",
    "    n_y = layer_sizes(X, Y)[1]\n",
    "    \n",
    "    # Initialize parameters, then retrieve W1, b1, W2, b2. Inputs: \"n_x, n_h, n_y\". Outputs = \"W1, b1, W2, b2, parameters\".\n",
    "    parameters = initialize_parameters(n_x, n_h, n_y)\n",
    "    W1 = parameters['W1']\n",
    "    b1 = parameters['b1']\n",
    "    W2 = parameters['W2']\n",
    "    b2 = parameters['b2']\n",
    "    \n",
    "    # Loop (gradient descent)\n",
    "\n",
    "    losses = []\n",
    "    accuracies = []\n",
    "    for i in range(0, num_iterations):\n",
    "         \n",
    "        # Forward propagation. Inputs: \"X, parameters\". Outputs: \"A2, cache\".\n",
    "        A2, cache = forward_propagation(X, parameters)\n",
    "        \n",
    "        # Cost function. Inputs: \"A2, Y, parameters\". Outputs: \"cost\".\n",
    "        cost = compute_cost(A2, Y, parameters)\n",
    "        losses.append([i,cost])\n",
    "\n",
    "        # Backpropagation. Inputs: \"parameters, cache, X, Y\". Outputs: \"grads\".\n",
    "        grads = backward_propagation(parameters, cache, X, Y)\n",
    " \n",
    "        # Gradient descent parameter update. Inputs: \"parameters, grads\". Outputs: \"parameters\".\n",
    "        parameters = update_parameters(parameters, grads)\n",
    "        \n",
    "        # Print the cost every 1000 iterations\n",
    "        if print_cost and i % 1000 == 0:\n",
    "            #print (\"Cost after iteration %i: %f\" %(i, cost))\n",
    "            A2, cache = forward_propagation(X,parameters)\n",
    "            predictions = A2 > 0.5\n",
    "            acc = float((np.dot(y,predictions.T) + np.dot(1-y,1-predictions.T))/float(y.size)*100) \n",
    "            #print ('Accuracy: %d' % acc + '%')\n",
    "            accuracies.append([i, acc])\n",
    "            print('Epoch %d\\tLoss: %f Accuracy: %f' %(i, cost, acc))\n",
    "            save_filepath = './scratch_mlp/plots/boundary/image_%d.png'%i\n",
    "            text = 'Batch #: %d    Accuracy: %.2f    Loss value: %.2f'%(i, acc, cost)\n",
    "            plot_decision_boundary(X, y_list, lambda x: predict(parameters, x.T),\n",
    "                                         save_filepath=save_filepath, text = text)\n",
    "            save_filepath = './scratch_mlp/plots/loss/image_%d.png' % i\n",
    "            plot_function(losses, save_filepath=save_filepath, ylabel='Loss', title='Loss estimation')\n",
    "            save_filepath = './scratch_mlp/plots/accuracy/image_%d.png' % i\n",
    "            plot_function(accuracies, save_filepath=save_filepath, ylabel='Accuracy', title='Accuracy estimation')\n",
    "                \n",
    "    return parameters"
   ]
  },
  {
   "cell_type": "markdown",
   "metadata": {},
   "source": [
    "## ANN Training GIF"
   ]
  },
  {
   "cell_type": "code",
   "execution_count": 12,
   "metadata": {},
   "outputs": [],
   "source": [
    "dataset_len = 200\n",
    "dlen = int(dataset_len/2)\n",
    "X_11 = pd.Series(np.random.normal(2,2,dlen))\n",
    "X_12 = pd.Series(np.random.normal(4,2,dlen))\n",
    "X_1 = pd.concat([X_11, X_12]).reset_index(drop=True)\n",
    "X_21 = pd.Series(np.random.normal(1,3,dlen))\n",
    "X_22 = pd.Series(np.random.normal(2,3,dlen))\n",
    "X_2 = pd.concat([X_21, X_22]).reset_index(drop=True)\n",
    "Y = pd.Series(np.repeat([0,1],dlen))\n",
    "df = pd.concat([X_1, X_2, Y], axis=1)\n",
    "df.columns = ['X1', 'X2', 'Y']\n",
    "\n",
    "X = df.drop(['Y'], axis=1).values\n",
    "y = df['Y']\n",
    "\n",
    "\n",
    "X_train, X_test, y_train, y_test = train_test_split(X, y, \n",
    "                                test_size=0.2)\n",
    "\n",
    "X, y = X.T, y.values.reshape(1, y.shape[0])"
   ]
  },
  {
   "cell_type": "code",
   "execution_count": 13,
   "metadata": {},
   "outputs": [
    {
     "name": "stdout",
     "output_type": "stream",
     "text": [
      "Epoch 0\tLoss: 0.693090 Accuracy: 57.500000\n",
      "Epoch 1000\tLoss: 0.550829 Accuracy: 75.000000\n",
      "Epoch 2000\tLoss: 0.518712 Accuracy: 75.500000\n",
      "Epoch 3000\tLoss: 0.499997 Accuracy: 77.000000\n",
      "Epoch 4000\tLoss: 0.494223 Accuracy: 77.000000\n",
      "Epoch 5000\tLoss: 0.491703 Accuracy: 77.500000\n",
      "Epoch 6000\tLoss: 0.490332 Accuracy: 77.000000\n",
      "Epoch 7000\tLoss: 0.489334 Accuracy: 78.000000\n",
      "Epoch 8000\tLoss: 0.484231 Accuracy: 78.000000\n",
      "Epoch 9000\tLoss: 0.480351 Accuracy: 77.500000\n",
      "Epoch 10000\tLoss: 0.477184 Accuracy: 78.000000\n",
      "Epoch 11000\tLoss: 0.474469 Accuracy: 77.500000\n",
      "Epoch 12000\tLoss: 0.472941 Accuracy: 78.000000\n",
      "Epoch 13000\tLoss: 0.472272 Accuracy: 78.000000\n",
      "Epoch 14000\tLoss: 0.471478 Accuracy: 78.000000\n",
      "Epoch 15000\tLoss: 0.470678 Accuracy: 77.500000\n",
      "Epoch 16000\tLoss: 0.469943 Accuracy: 78.000000\n",
      "Epoch 17000\tLoss: 0.469280 Accuracy: 78.000000\n",
      "Epoch 18000\tLoss: 0.468683 Accuracy: 78.000000\n"
     ]
    },
    {
     "name": "stderr",
     "output_type": "stream",
     "text": [
      "C:\\Users\\hp\\Anaconda3\\lib\\site-packages\\matplotlib\\pyplot.py:514: RuntimeWarning: More than 20 figures have been opened. Figures created through the pyplot interface (`matplotlib.pyplot.figure`) are retained until explicitly closed and may consume too much memory. (To control this warning, see the rcParam `figure.max_open_warning`).\n",
      "  max_open_warning, RuntimeWarning)\n"
     ]
    },
    {
     "name": "stdout",
     "output_type": "stream",
     "text": [
      "Epoch 19000\tLoss: 0.468144 Accuracy: 78.000000\n",
      "Epoch 20000\tLoss: 0.467655 Accuracy: 78.000000\n",
      "Epoch 21000\tLoss: 0.467209 Accuracy: 78.000000\n",
      "Epoch 22000\tLoss: 0.466800 Accuracy: 78.000000\n",
      "Epoch 23000\tLoss: 0.466423 Accuracy: 78.000000\n",
      "Epoch 24000\tLoss: 0.466075 Accuracy: 78.000000\n"
     ]
    },
    {
     "data": {
      "text/plain": [
       "<Figure size 432x288 with 0 Axes>"
      ]
     },
     "metadata": {},
     "output_type": "display_data"
    },
    {
     "data": {
      "text/plain": [
       "<Figure size 432x288 with 0 Axes>"
      ]
     },
     "metadata": {},
     "output_type": "display_data"
    },
    {
     "data": {
      "text/plain": [
       "<Figure size 432x288 with 0 Axes>"
      ]
     },
     "metadata": {},
     "output_type": "display_data"
    },
    {
     "data": {
      "text/plain": [
       "<Figure size 432x288 with 0 Axes>"
      ]
     },
     "metadata": {},
     "output_type": "display_data"
    },
    {
     "data": {
      "text/plain": [
       "<Figure size 432x288 with 0 Axes>"
      ]
     },
     "metadata": {},
     "output_type": "display_data"
    },
    {
     "data": {
      "text/plain": [
       "<Figure size 432x288 with 0 Axes>"
      ]
     },
     "metadata": {},
     "output_type": "display_data"
    },
    {
     "data": {
      "text/plain": [
       "<Figure size 432x288 with 0 Axes>"
      ]
     },
     "metadata": {},
     "output_type": "display_data"
    },
    {
     "data": {
      "text/plain": [
       "<Figure size 432x288 with 0 Axes>"
      ]
     },
     "metadata": {},
     "output_type": "display_data"
    },
    {
     "data": {
      "text/plain": [
       "<Figure size 432x288 with 0 Axes>"
      ]
     },
     "metadata": {},
     "output_type": "display_data"
    },
    {
     "data": {
      "text/plain": [
       "<Figure size 432x288 with 0 Axes>"
      ]
     },
     "metadata": {},
     "output_type": "display_data"
    },
    {
     "data": {
      "text/plain": [
       "<Figure size 432x288 with 0 Axes>"
      ]
     },
     "metadata": {},
     "output_type": "display_data"
    },
    {
     "data": {
      "text/plain": [
       "<Figure size 432x288 with 0 Axes>"
      ]
     },
     "metadata": {},
     "output_type": "display_data"
    },
    {
     "data": {
      "text/plain": [
       "<Figure size 432x288 with 0 Axes>"
      ]
     },
     "metadata": {},
     "output_type": "display_data"
    },
    {
     "data": {
      "text/plain": [
       "<Figure size 432x288 with 0 Axes>"
      ]
     },
     "metadata": {},
     "output_type": "display_data"
    },
    {
     "data": {
      "text/plain": [
       "<Figure size 432x288 with 0 Axes>"
      ]
     },
     "metadata": {},
     "output_type": "display_data"
    },
    {
     "data": {
      "text/plain": [
       "<Figure size 432x288 with 0 Axes>"
      ]
     },
     "metadata": {},
     "output_type": "display_data"
    },
    {
     "data": {
      "text/plain": [
       "<Figure size 432x288 with 0 Axes>"
      ]
     },
     "metadata": {},
     "output_type": "display_data"
    },
    {
     "data": {
      "text/plain": [
       "<Figure size 432x288 with 0 Axes>"
      ]
     },
     "metadata": {},
     "output_type": "display_data"
    },
    {
     "data": {
      "text/plain": [
       "<Figure size 432x288 with 0 Axes>"
      ]
     },
     "metadata": {},
     "output_type": "display_data"
    },
    {
     "data": {
      "text/plain": [
       "<Figure size 432x288 with 0 Axes>"
      ]
     },
     "metadata": {},
     "output_type": "display_data"
    },
    {
     "data": {
      "text/plain": [
       "<Figure size 432x288 with 0 Axes>"
      ]
     },
     "metadata": {},
     "output_type": "display_data"
    },
    {
     "data": {
      "text/plain": [
       "<Figure size 432x288 with 0 Axes>"
      ]
     },
     "metadata": {},
     "output_type": "display_data"
    },
    {
     "data": {
      "text/plain": [
       "<Figure size 432x288 with 0 Axes>"
      ]
     },
     "metadata": {},
     "output_type": "display_data"
    },
    {
     "data": {
      "text/plain": [
       "<Figure size 432x288 with 0 Axes>"
      ]
     },
     "metadata": {},
     "output_type": "display_data"
    },
    {
     "data": {
      "text/plain": [
       "<Figure size 432x288 with 0 Axes>"
      ]
     },
     "metadata": {},
     "output_type": "display_data"
    },
    {
     "data": {
      "text/plain": [
       "<Figure size 432x288 with 0 Axes>"
      ]
     },
     "metadata": {},
     "output_type": "display_data"
    }
   ],
   "source": [
    "n_h = 7\n",
    "parameters = nn_model(X, y, n_h, num_iterations = 25000, print_cost=True)"
   ]
  },
  {
   "cell_type": "code",
   "execution_count": 14,
   "metadata": {},
   "outputs": [
    {
     "data": {
      "image/png": "[encoded data removed]",
      "text/plain": [
       "<Figure size 432x288 with 1 Axes>"
      ]
     },
     "metadata": {
      "needs_background": "light"
     },
     "output_type": "display_data"
    }
   ],
   "source": [
    "# Plot the final training decision boundary\n",
    "y_list = [val for sublist in y for val in sublist]\n",
    "plot_decision_boundary(X, y_list, lambda x: predict(parameters, x.T))"
   ]
  },
  {
   "cell_type": "code",
   "execution_count": 15,
   "metadata": {},
   "outputs": [
    {
     "data": {
      "text/plain": [
       "<Figure size 432x288 with 0 Axes>"
      ]
     },
     "metadata": {},
     "output_type": "display_data"
    },
    {
     "data": {
      "text/plain": [
       "<Figure size 432x288 with 0 Axes>"
      ]
     },
     "metadata": {},
     "output_type": "display_data"
    },
    {
     "data": {
      "text/plain": [
       "<Figure size 432x288 with 0 Axes>"
      ]
     },
     "metadata": {},
     "output_type": "display_data"
    },
    {
     "data": {
      "text/plain": [
       "<Figure size 432x288 with 0 Axes>"
      ]
     },
     "metadata": {},
     "output_type": "display_data"
    },
    {
     "data": {
      "text/plain": [
       "<Figure size 432x288 with 0 Axes>"
      ]
     },
     "metadata": {},
     "output_type": "display_data"
    },
    {
     "data": {
      "text/plain": [
       "<Figure size 432x288 with 0 Axes>"
      ]
     },
     "metadata": {},
     "output_type": "display_data"
    },
    {
     "data": {
      "text/plain": [
       "<Figure size 432x288 with 0 Axes>"
      ]
     },
     "metadata": {},
     "output_type": "display_data"
    },
    {
     "data": {
      "text/plain": [
       "<Figure size 432x288 with 0 Axes>"
      ]
     },
     "metadata": {},
     "output_type": "display_data"
    },
    {
     "data": {
      "text/plain": [
       "<Figure size 432x288 with 0 Axes>"
      ]
     },
     "metadata": {},
     "output_type": "display_data"
    },
    {
     "data": {
      "text/plain": [
       "<Figure size 432x288 with 0 Axes>"
      ]
     },
     "metadata": {},
     "output_type": "display_data"
    },
    {
     "data": {
      "text/plain": [
       "<Figure size 432x288 with 0 Axes>"
      ]
     },
     "metadata": {},
     "output_type": "display_data"
    },
    {
     "data": {
      "text/plain": [
       "<Figure size 432x288 with 0 Axes>"
      ]
     },
     "metadata": {},
     "output_type": "display_data"
    },
    {
     "data": {
      "text/plain": [
       "<Figure size 432x288 with 0 Axes>"
      ]
     },
     "metadata": {},
     "output_type": "display_data"
    },
    {
     "data": {
      "text/plain": [
       "<Figure size 432x288 with 0 Axes>"
      ]
     },
     "metadata": {},
     "output_type": "display_data"
    },
    {
     "data": {
      "text/plain": [
       "<Figure size 432x288 with 0 Axes>"
      ]
     },
     "metadata": {},
     "output_type": "display_data"
    },
    {
     "data": {
      "text/plain": [
       "<Figure size 432x288 with 0 Axes>"
      ]
     },
     "metadata": {},
     "output_type": "display_data"
    },
    {
     "data": {
      "text/plain": [
       "<Figure size 432x288 with 0 Axes>"
      ]
     },
     "metadata": {},
     "output_type": "display_data"
    },
    {
     "data": {
      "text/plain": [
       "<Figure size 432x288 with 0 Axes>"
      ]
     },
     "metadata": {},
     "output_type": "display_data"
    },
    {
     "data": {
      "text/plain": [
       "<Figure size 432x288 with 0 Axes>"
      ]
     },
     "metadata": {},
     "output_type": "display_data"
    },
    {
     "data": {
      "text/plain": [
       "<Figure size 432x288 with 0 Axes>"
      ]
     },
     "metadata": {},
     "output_type": "display_data"
    },
    {
     "data": {
      "text/plain": [
       "<Figure size 432x288 with 0 Axes>"
      ]
     },
     "metadata": {},
     "output_type": "display_data"
    },
    {
     "data": {
      "text/plain": [
       "<Figure size 432x288 with 0 Axes>"
      ]
     },
     "metadata": {},
     "output_type": "display_data"
    },
    {
     "data": {
      "text/plain": [
       "<Figure size 432x288 with 0 Axes>"
      ]
     },
     "metadata": {},
     "output_type": "display_data"
    },
    {
     "data": {
      "text/plain": [
       "<Figure size 432x288 with 0 Axes>"
      ]
     },
     "metadata": {},
     "output_type": "display_data"
    },
    {
     "data": {
      "text/plain": [
       "<Figure size 432x288 with 0 Axes>"
      ]
     },
     "metadata": {},
     "output_type": "display_data"
    }
   ],
   "source": [
    "save_filepath = './scratch_mlp/plots/gif/boundary.gif'\n",
    "make_gif('./scratch_mlp/plots/boundary/', save_filepath)\n",
    "save_filepath = './scratch_mlp/plots/gif/loss.gif'\n",
    "make_gif('./scratch_mlp/plots/loss/', save_filepath)\n",
    "save_filepath = './scratch_mlp/plots/gif/accuracy.gif'\n",
    "make_gif('./scratch_mlp/plots/accuracy/', save_filepath)\n",
    "\n",
    "input_folder = './scratch_mlp/plots/'\n",
    "save_filepath = './scratch_mlp/plots/gif/all.gif'\n",
    "make_all_gif(input_folder, save_filepath)"
   ]
  },
  {
   "cell_type": "markdown",
   "metadata": {},
   "source": [
    "#### Output:\n",
    "![33](./scratch_mlp/plots/gif/all.gif)"
   ]
  }
 ],
 "metadata": {
  "kernelspec": {
   "display_name": "Python 3",
   "language": "python",
   "name": "python3"
  },
  "language_info": {
   "codemirror_mode": {
    "name": "ipython",
    "version": 3
   },
   "file_extension": ".py",
   "mimetype": "text/x-python",
   "name": "python",
   "nbconvert_exporter": "python",
   "pygments_lexer": "ipython3",
   "version": "3.7.3"
  }
 },
 "nbformat": 4,
 "nbformat_minor": 2
}
