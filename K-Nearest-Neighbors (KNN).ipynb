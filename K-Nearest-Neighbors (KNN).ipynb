{
 "cells": [
  {
   "cell_type": "markdown",
   "metadata": {},
   "source": [
    "# K-Nearest-Neighbors"
   ]
  },
  {
   "cell_type": "code",
   "execution_count": 1,
   "metadata": {},
   "outputs": [],
   "source": [
    "import numpy as np\n",
    "import pandas as pd\n",
    "import matplotlib.pyplot as plt\n",
    "import seaborn as sns\n",
    "from sklearn.utils import shuffle"
   ]
  },
  {
   "cell_type": "code",
   "execution_count": 28,
   "metadata": {},
   "outputs": [
    {
     "data": {
      "text/plain": [
       "80"
      ]
     },
     "execution_count": 28,
     "metadata": {},
     "output_type": "execute_result"
    }
   ],
   "source": [
    "# Creating a linearly separable dataset using Gaussian Distributions.\n",
    "# The first half of the number in Y is 0 and the other half 1.\n",
    "# Therefore I made the first half of the two features quite different from\n",
    "# the second half of the features (setting the value of the means quite \n",
    "# similar) so that make quite simple the classification between the \n",
    "# classes (the data is linearly separable).\n",
    "dataset_len = 80\n",
    "dlen = int(dataset_len/2)\n",
    "X_11 = pd.Series(np.random.normal(2,2,dlen))\n",
    "X_12 = pd.Series(np.random.normal(9,2,dlen))\n",
    "X_1 = pd.concat([X_11, X_12]).reset_index(drop=True)\n",
    "X_21 = pd.Series(np.random.normal(1,3,dlen))\n",
    "X_22 = pd.Series(np.random.normal(7,3,dlen))\n",
    "X_2 = pd.concat([X_21, X_22]).reset_index(drop=True)\n",
    "Y = pd.Series(np.repeat([0,1],dlen))\n",
    "df = pd.concat([X_1, X_2, Y], axis=1)\n",
    "df.columns = ['X1', 'X2', 'Y']\n",
    "len(df)"
   ]
  },
  {
   "cell_type": "code",
   "execution_count": 29,
   "metadata": {},
   "outputs": [
    {
     "data": {
      "text/plain": [
       "Text(0.5, 1.0, 'Distribution Plot')"
      ]
     },
     "execution_count": 29,
     "metadata": {},
     "output_type": "execute_result"
    },
    {
     "data": {
      "image/png": "[encoded data removed]",
      "text/plain": [
       "<Figure size 402.375x360 with 1 Axes>"
      ]
     },
     "metadata": {
      "needs_background": "light"
     },
     "output_type": "display_data"
    }
   ],
   "source": [
    "sns.lmplot('X1', 'X2', data=df, hue='Y', fit_reg=False)\n",
    "plt.title('Distribution Plot')"
   ]
  },
  {
   "cell_type": "markdown",
   "metadata": {},
   "source": [
    "## Mathematical Background"
   ]
  },
  {
   "cell_type": "markdown",
   "metadata": {},
   "source": [
    "To classify a new observation, the algorithm searches for the k most similar training observations and summarizing the output variable for those k observations where k is a number that we have to specify in advance and similarity is defined by a distance measure (in this case the Euclidian Distance). When using kNN for classification, summarizing the output variable refers to using the mode (most common) class value. In the case of regression, one would use the mean.\n",
    "![](https://miro.medium.com/max/618/1*DDKwGeqlxvF8_1P1xrVHdw.png)"
   ]
  },
  {
   "cell_type": "markdown",
   "metadata": {},
   "source": [
    "Some KNN limitations are: <br>\n",
    "1) The curse of dimensionality can cause a lot of problems since similar points may have large distances between them in high dimensions. <br> \n",
    "2) Normalization of the data is necessary since kNN is based on a distance measure."
   ]
  },
  {
   "cell_type": "code",
   "execution_count": 30,
   "metadata": {},
   "outputs": [],
   "source": [
    "#Calculating the distance between two data points using the Euclidian \n",
    "# Distance \n",
    "# Input: two data points (with two attributes, x and y position)\n",
    "# Output: Euclidean distance between the two data points\n",
    "def eucl(obs1, obs2):\n",
    "    squared_diff1 = (obs1[0] - obs2[0])**2\n",
    "    squared_diff2 = (obs1[1] - obs2[1])**2\n",
    "    \n",
    "    sum_sq_diff = squared_diff1 + squared_diff2\n",
    "    \n",
    "    distance = np.sqrt(sum_sq_diff)\n",
    "    \n",
    "    return distance"
   ]
  },
  {
   "cell_type": "code",
   "execution_count": 35,
   "metadata": {},
   "outputs": [],
   "source": [
    "# Function to run the KNN algorithm on a given dataset and using the desired train/test \n",
    "# split ratio and number of K-Neighbours\n",
    "def KNN(df, train=70, k=3):\n",
    "    # converting the input train percentage to the train lenght\n",
    "    train_set = int((train*len(df))/100)\n",
    "    #converting our data for computation\n",
    "    df = shuffle(df) # Shuffling the data to make alternate the output classes more frequently\n",
    "    # Splitting the dataframe in train and test and then convert it first in a dictionary and then\n",
    "    # in a list to make it easier to iterate through each row and access it's elements\n",
    "    previous_obs = list(zip(list(df.X1[0:train_set]), \n",
    "                            list(df.X2[0:train_set]), \n",
    "                            list(df.Y[0:train_set])))\n",
    "    new_data = list(zip(list(df.X1[train_set:]), list(df.X2[train_set:]), \n",
    "                            list(df.Y[train_set:])))\n",
    "\n",
    "    # Converting the test portion to a dataset to make easier to access it's elements\n",
    "    pd_new_data = pd.DataFrame(new_data)\n",
    "    pd_new_data.columns = ['X1', 'X2', 'Y']\n",
    "\n",
    "\n",
    "    knn_list = []\n",
    "    # For each new datapoint loop through all the points in the training set to find the closest datapoints to the \n",
    "    # new datapoint\n",
    "    for i in range(0,len(new_data)):\n",
    "        dist_res = [] #list that will store distances\n",
    "        for el in previous_obs:\n",
    "            # calculating the distance between each observation from our \n",
    "            # original data set and the new observations\n",
    "            distance = eucl(el[0:2], pd_new_data.iloc[i,0:2].values)\n",
    "            dist_res.append((distance, el[2]))\n",
    "\n",
    "        # sorting the distance between the data point in consideration and all the datapints in the \n",
    "        # dataset in ascending order, and then keeping just the first k distances (the closest ones to\n",
    "        # the datapoint in consideration\n",
    "        dist_res.sort(key=lambda x: x[0])\n",
    "        # knn_list if a list of list in which each list contains the k closest distances to a new datapoint\n",
    "        # and the class to which each of the closest datapoints belongs\n",
    "        knn_list.append(dist_res[0:k])\n",
    "    \n",
    "    #print(len(pred_list))\n",
    "    # Taking the labels of the new datapoints from the shuffled dataset\n",
    "    real_val = df.Y[train_set:].values\n",
    "\n",
    "    correct_predictions = 0\n",
    "    # Looping through the list of k neighbours of all the new datapoints to vote to which class to assign all the new \n",
    "    # datapoints and then calculate the KNN accuracy by comparing the predicted classes values and the actual ones\n",
    "    for i in knn_list:\n",
    "        print(\"Distance and class of the K closest points to the\" \n",
    "              \"datapoint to be classified\")\n",
    "        print(dist_res[0:k])\n",
    "        re= []\n",
    "        # In re are stored the corrisponded class of the k neighbour of the datapoint in examination\n",
    "        for j in range(0, k):\n",
    "            re.append(i[j][1])\n",
    "        # Counting if there are more zeroes or ones in re, we predict to which class the new datapoint belongs\n",
    "        if re.count(0) > re.count(1):\n",
    "            print(\"This point likely belongs to class: 0\")\n",
    "            pred = 0\n",
    "        # If there are the same number of 0s and 1s in re pick the class corrisponded to the closest neighbour to\n",
    "        # the new datapoint\n",
    "        elif re.count(0) == re.count(1):\n",
    "            print(\"This point likely belongs to class: {}\".format(i[0][1]))\n",
    "            pred = i[0][1]\n",
    "        else:\n",
    "            print(\"This point likely belongs to class: 1\")\n",
    "            pred = 1\n",
    "        # Check if the KNN prediction matched the actual value \n",
    "        if real_val[knn_list.index(i)].item() == pred:\n",
    "            print(\"The prediction was accurate \\n\")\n",
    "            correct_predictions += 1\n",
    "        else:\n",
    "            print(\"The prediction was not accurate \\n\")\n",
    "    # Calculating the overall KNN classification accuracy\n",
    "    accuracy = (correct_predictions/len(knn_list))*100\n",
    "    print('\\nAccuracy of this epoch: {}%\\n'.format(accuracy), '-'*60)"
   ]
  },
  {
   "cell_type": "code",
   "execution_count": 36,
   "metadata": {},
   "outputs": [
    {
     "name": "stdout",
     "output_type": "stream",
     "text": [
      "Distance and class of the K closest points to thedatapoint to be classified\n",
      "[(0.29477187250098413, 0), (0.40311248281908224, 0)]\n",
      "This point likely belongs to class: 1\n",
      "The prediction was accurate \n",
      "\n",
      "Distance and class of the K closest points to thedatapoint to be classified\n",
      "[(0.29477187250098413, 0), (0.40311248281908224, 0)]\n",
      "This point likely belongs to class: 1\n",
      "The prediction was accurate \n",
      "\n",
      "Distance and class of the K closest points to thedatapoint to be classified\n",
      "[(0.29477187250098413, 0), (0.40311248281908224, 0)]\n",
      "This point likely belongs to class: 1\n",
      "The prediction was accurate \n",
      "\n",
      "Distance and class of the K closest points to thedatapoint to be classified\n",
      "[(0.29477187250098413, 0), (0.40311248281908224, 0)]\n",
      "This point likely belongs to class: 0\n",
      "The prediction was accurate \n",
      "\n",
      "Distance and class of the K closest points to thedatapoint to be classified\n",
      "[(0.29477187250098413, 0), (0.40311248281908224, 0)]\n",
      "This point likely belongs to class: 1\n",
      "The prediction was accurate \n",
      "\n",
      "Distance and class of the K closest points to thedatapoint to be classified\n",
      "[(0.29477187250098413, 0), (0.40311248281908224, 0)]\n",
      "This point likely belongs to class: 0\n",
      "The prediction was accurate \n",
      "\n",
      "Distance and class of the K closest points to thedatapoint to be classified\n",
      "[(0.29477187250098413, 0), (0.40311248281908224, 0)]\n",
      "This point likely belongs to class: 0\n",
      "The prediction was accurate \n",
      "\n",
      "Distance and class of the K closest points to thedatapoint to be classified\n",
      "[(0.29477187250098413, 0), (0.40311248281908224, 0)]\n",
      "This point likely belongs to class: 0\n",
      "The prediction was accurate \n",
      "\n",
      "\n",
      "Accuracy of this epoch: 100.0%\n",
      " ------------------------------------------------------------\n"
     ]
    }
   ],
   "source": [
    "KNN(df, 90, 2)"
   ]
  }
 ],
 "metadata": {
  "kernelspec": {
   "display_name": "Python 3",
   "language": "python",
   "name": "python3"
  },
  "language_info": {
   "codemirror_mode": {
    "name": "ipython",
    "version": 3
   },
   "file_extension": ".py",
   "mimetype": "text/x-python",
   "name": "python",
   "nbconvert_exporter": "python",
   "pygments_lexer": "ipython3",
   "version": "3.7.3"
  }
 },
 "nbformat": 4,
 "nbformat_minor": 2
}
